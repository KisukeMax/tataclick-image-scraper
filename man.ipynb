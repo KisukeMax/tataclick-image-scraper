{
 "cells": [
  {
   "cell_type": "code",
   "execution_count": null,
   "metadata": {},
   "outputs": [],
   "source": [
    "from requests_html import HTMLSession\n",
    "import os\n",
    "from urllib.parse import urlparse\n",
    "import requests\n",
    "import pandas as pd\n",
    "from tqdm import tqdm\n",
    "df = pd.read_excel(\"CW-31892 - Grey BG working - Audio and Wearables - 50 SKUs.xlsx\")\n",
    "df"
   ]
  },
  {
   "cell_type": "code",
   "execution_count": null,
   "metadata": {},
   "outputs": [],
   "source": [
    "\n",
    "s = HTMLSession()\n",
    "url = \"https://www.tatacliq.com/marketplacewebservices/v2/mpl/products/productDetails/mp000000016283442?isPwa=true&isMDE=true\"\n",
    "\n",
    "r = s.get(url)\n",
    "jb = r.json()"
   ]
  },
  {
   "cell_type": "code",
   "execution_count": null,
   "metadata": {},
   "outputs": [],
   "source": [
    "def download_image(url ,save_path, pid_number, image_number, chunk_size=128):\n",
    "    if not os.path.exists(save_path):\n",
    "        os.mkdir(save_path)\n",
    "    \n",
    "    r = requests.get(url,  stream=True)\n",
    "    # print(r.status_code)\n",
    "    if r.status_code == 404:\n",
    "        return \"no file lol\"\n",
    "        # print(r.status_code)\n",
    "    else:\n",
    "        # print(r.status_code)\n",
    "        a = urlparse(url)\n",
    "        \n",
    "        # get orignal file name\n",
    "        f_name = os.path.basename(a.path)\n",
    "        new_name = pid_number + \"_\" + str(image_number) + \".\" + f_name.split(\".\")[-1]\n",
    "    \n",
    "    with open(save_path + \"/\" + new_name, 'wb') as fd:\n",
    "        for chunk in r.iter_content(chunk_size=chunk_size):\n",
    "            fd.write(chunk)\n",
    "    return save_path + \"/\" + new_name\n",
    "\n",
    "\n",
    "\n"
   ]
  },
  {
   "cell_type": "code",
   "execution_count": null,
   "metadata": {},
   "outputs": [],
   "source": [
    "for row_number , row in tqdm(df.iterrows(), total=df.shape[0]):\n",
    "    listing_id = row.get(\"Listing ID\")\n",
    "    listing_sku = row.get(\"SKU code\")\n",
    "    s = HTMLSession()\n",
    "    url = f\"https://www.tatacliq.com/marketplacewebservices/v2/mpl/products/productDetails/{listing_id}?isPwa=true&isMDE=true\"\n",
    "\n",
    "    r = s.get(url)\n",
    "    jb = r.json()\n",
    "    for n , img_lists in enumerate(jb.get(\"galleryImagesList\")):\n",
    "        # print(img_lists)\n",
    "        for img in img_lists.get(\"galleryImages\"):\n",
    "            # print(img.get(\"key\"))\n",
    "            if img.get(\"key\") == \"superZoom\":\n",
    "                img_url = \"https:\" +  img.get(\"value\")\n",
    "                img_name = str(row_number) + \"_\" + listing_sku\n",
    "                download_image(img_url,\"images\", img_name,n)\n",
    "                df.at[row_number,\"img_\" + (str(n))] = img_url\n",
    "\n",
    "df.to_excel(\"results.xlsx\", index=False)"
   ]
  }
 ],
 "metadata": {
  "kernelspec": {
   "display_name": "Python 3",
   "language": "python",
   "name": "python3"
  },
  "language_info": {
   "codemirror_mode": {
    "name": "ipython",
    "version": 3
   },
   "file_extension": ".py",
   "mimetype": "text/x-python",
   "name": "python",
   "nbconvert_exporter": "python",
   "pygments_lexer": "ipython3",
   "version": "3.11.2"
  },
  "orig_nbformat": 4
 },
 "nbformat": 4,
 "nbformat_minor": 2
}
